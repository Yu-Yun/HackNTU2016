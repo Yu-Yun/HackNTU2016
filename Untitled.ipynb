{
 "cells": [
  {
   "cell_type": "code",
   "execution_count": 1,
   "metadata": {
    "collapsed": true
   },
   "outputs": [],
   "source": [
    "# coding: utf-8\n",
    "from scipy import stats\n",
    "from sklearn import datasets\n",
    "from sklearn import svm\n",
    "import numpy as np\n",
    "import re\n",
    "#text\n",
    "#input: [[句子1, label1]], [句子2, label], ...]\n",
    "file = open('/Users/Hanna/HackNTU2016/sent_label.txt','r')\n",
    "taggedtext = file.readlines()\n",
    "taggedtext = [i.rstrip() for i in taggedtext]\n",
    "taggedtext = [i.split('\\t') for i in taggedtext]\n",
    "text = [i[0] for i in taggedtext]\n",
    "labels = [i[1] for i in taggedtext]\n",
    "file.close()\n",
    "#print (len(labels), labels[:2],text[:2], taggedtext[:2])\n",
    "#print(text)\n",
    "# combine all features as a list\n",
    "f1 = (r'你看')\n",
    "f2 = (r'不覺得她|那')\n",
    "f3 = (r'(她|他|那個)(.*?)(喔|噢|哦)')\n",
    "f4 = (r'胖|粗魯|沒氣質|沒有氣質|太矮|脾氣|脾氣|差很多|很沒有|不適合|任性|差|爛|粗|好胖|很大|整形')\n",
    "f5 = (r'吵|煩|管|嘮叨|黏')\n",
    "f6 = (r'公主(病)?|獨立')\n",
    "f7 = (r'亂花錢|金錢觀|價值觀|錢')\n",
    "f8 = (r'嗎$')\n",
    "f9 = (r'^這(.*?)是不是')\n",
    "f10 = (r'會不會')\n",
    "f11 = (r'怎麼辦')\n",
    "#f12 = (r'(.*)$怎麼辦(.*)$')\n",
    "f13 = (r'(.*?)還是(.*?)')\n",
    "f14 = (r'(.*?)比較(.*?)')\n",
    "f15 = (r'^你覺得')\n",
    "f16 = (r'真|最|超')\n",
    "f17 = (r'真的(.*?)喔')\n",
    "f18 = (r'(對|可以|好)(.*)(阿|啊)')\n",
    "f19 = (r'不會|才不會')\n",
    "f20 = (r'(很*|沒*)(.*)(壓|呀)')\n",
    "f21 = (r'真的|完全')\n",
    "f22 = (r'可以')\n",
    "f23 = (r'(嗎|啊|阿|了)$')\n",
    "f24 = (r'嗯+|喔+')\n",
    "f25 = (r'都')\n",
    "f26 = (r'覺得(.*?)(她|他|我)(.*?)(他|她|我)')\n",
    "f27 = (r'(.*?)比不上')\n",
    "f28 = (r'(.*?)差(.*?)')\n",
    "f29 = (r'(.*?)不好(.*?)')\n",
    "f30 = (r'(.*?)不覺得(.*?)')\n",
    "f31 = (r'誰')\n",
    "f32 = (r'什麼|為何|為什麼')\n",
    "f33 = (r'認識|知道')\n",
    "f34 = (r'一起')\n",
    "f35 = (r'陪')\n",
    "f36 = (r'只(有)?找你')\n",
    "f37 = (r'還是(.*?)去')\n",
    "f38 = (r'(他|她|你)(.*?)去')\n",
    "\n",
    "#f39 = (word_length <=3)\n",
    "\n",
    "feature_list = [f1,f2,f3,f4,f5,f6,f7,f8,f9,f10,f11,f13,f14,f15,f16,f17,f18,f19,f20,f21,f22,f23,f24,f25,f26,f27,f28,f29,f30,f31,f32,f33,f34,f35,f36,f37,f38]\n",
    "#print (feature_list)\n",
    "#### append elements in nested list \n",
    "\n",
    "#user_input = input(\"快陶啊! 她說:\")\n",
    "#def baby(user_input):\n",
    "#    input_list = []\n",
    "#    input_list.append(user_input)\n",
    "#    return input_list\n",
    "#print (input_list)\n",
    "\n",
    "\n",
    "#########################################\n",
    "def sent_score(user_sent):\n",
    "    new_text = text+[user_sent]\n",
    "    matched = []\n",
    "    for i in feature_list:\n",
    "        f = []\n",
    "        for sent in new_text:\n",
    "            pattern = re.compile(i)\n",
    "            match = pattern.findall(sent)\n",
    "            f.append(len(match))\n",
    "        matched.append(f)\n",
    "    #len(matched)\n",
    "    x = np.array(matched)\n",
    "    newmatched = x.T\n",
    "    #print (newmatched)\n",
    "    scored_match = stats.zscore(newmatched)\n",
    "    #matchlist = scored_match.tolist()\n",
    "    # == taco #\n",
    "    matchlist = scored_match.tolist()\n",
    "    matchlist_1 = matchlist[0:-1]\n",
    "    matchlist_2 = matchlist[-1]\n",
    "    featuredict = list(zip(labels, matchlist_1))\n",
    "    data = [a[1] for a in featuredict]\n",
    "    target = [a[0] for a in featuredict]\n",
    "    clf = svm.SVC()\n",
    "\n",
    "    X,y = data, target  \n",
    "    clf.fit(X,y)\n",
    "\n",
    "    # end taco #\n",
    "\n",
    "    return clf.predict(matchlist_2).tolist()[0]\n",
    "\n"
   ]
  },
  {
   "cell_type": "code",
   "execution_count": 2,
   "metadata": {
    "collapsed": false
   },
   "outputs": [
    {
     "name": "stderr",
     "output_type": "stream",
     "text": [
      "/Library/Frameworks/Python.framework/Versions/3.4/lib/python3.4/site-packages/sklearn/utils/validation.py:386: DeprecationWarning: Passing 1d arrays as data is deprecated in 0.17 and willraise ValueError in 0.19. Reshape your data either using X.reshape(-1, 1) if your data has a single feature or X.reshape(1, -1) if it contains a single sample.\n",
      "  DeprecationWarning)\n"
     ]
    },
    {
     "data": {
      "text/plain": [
       "'r'"
      ]
     },
     "execution_count": 2,
     "metadata": {},
     "output_type": "execute_result"
    }
   ],
   "source": [
    "sent_score(\"你要跟誰去\")"
   ]
  },
  {
   "cell_type": "code",
   "execution_count": null,
   "metadata": {
    "collapsed": true
   },
   "outputs": [],
   "source": []
  }
 ],
 "metadata": {
  "kernelspec": {
   "display_name": "Python 3",
   "language": "python",
   "name": "python3"
  },
  "language_info": {
   "codemirror_mode": {
    "name": "ipython",
    "version": 3
   },
   "file_extension": ".py",
   "mimetype": "text/x-python",
   "name": "python",
   "nbconvert_exporter": "python",
   "pygments_lexer": "ipython3",
   "version": "3.4.3"
  }
 },
 "nbformat": 4,
 "nbformat_minor": 1
}
