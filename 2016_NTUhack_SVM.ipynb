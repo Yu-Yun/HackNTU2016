{
 "cells": [
  {
   "cell_type": "code",
   "execution_count": 103,
   "metadata": {
    "collapsed": false
   },
   "outputs": [
    {
     "data": {
      "text/plain": [
       "list"
      ]
     },
     "execution_count": 103,
     "metadata": {},
     "output_type": "execute_result"
    }
   ],
   "source": [
    "text = ['你不覺得那個女生很正嗎', '不覺得她很瘦嗎', '不覺得我很公主病嗎', '你不覺得她那張臉, 不覺得她很壯','我是不是比不上他,是不是' ,' 皮卡丘']\n",
    "#type(text)"
   ]
  },
  {
   "cell_type": "code",
   "execution_count": 64,
   "metadata": {
    "collapsed": false
   },
   "outputs": [
    {
     "name": "stdout",
     "output_type": "stream",
     "text": [
      "我是不是比不上他,是不是\n"
     ]
    }
   ],
   "source": [
    "\n",
    "#import re\n",
    "#for i in text:\n",
    "#    line = re.compile(r'是不是', i)\n",
    "#    if len(line)!=0:\n",
    "#        print (i)\n",
    "\n",
    "    #print(line)\n",
    "    "
   ]
  },
  {
   "cell_type": "code",
   "execution_count": 97,
   "metadata": {
    "collapsed": false
   },
   "outputs": [
    {
     "data": {
      "text/plain": [
       "['是不是', '是不是']"
      ]
     },
     "execution_count": 97,
     "metadata": {},
     "output_type": "execute_result"
    }
   ],
   "source": [
    "#pattern = re.compile(r'是不是')\n",
    "#match = pattern.findall(str(text))\n",
    "\n",
    "#match\n",
    "                     "
   ]
  },
  {
   "cell_type": "code",
   "execution_count": 77,
   "metadata": {
    "collapsed": false
   },
   "outputs": [
    {
     "name": "stdout",
     "output_type": "stream",
     "text": [
      "['是不是', '是不是']\n",
      "['是不是', '是不是']\n",
      "['是不是', '是不是']\n",
      "['是不是', '是不是']\n",
      "['是不是', '是不是']\n",
      "['是不是', '是不是']\n"
     ]
    }
   ],
   "source": [
    "#for i in text:\n",
    "#    match = pattern.findall(str(text))\n",
    "#    print(match)"
   ]
  },
  {
   "cell_type": "code",
   "execution_count": 26,
   "metadata": {
    "collapsed": true
   },
   "outputs": [],
   "source": [
    "import re"
   ]
  },
  {
   "cell_type": "code",
   "execution_count": 104,
   "metadata": {
    "collapsed": false
   },
   "outputs": [],
   "source": [
    "\n",
    "    \n",
    "\n",
    "\n",
    "f1 = (r'你看')\n",
    "f2 = (r'不覺得她|那')\n",
    "f3 = (r'(她|他|那個) (.*?) (喔|噢|哦)')\n",
    "f4 = (r'胖|粗魯|沒氣質|沒有氣質|太矮|脾氣|脾氣|差很多|很沒有|不適合|任性|差|爛|粗|好胖|很大|整形')\n",
    "f5 = (r'吵|煩|管|嘮叨|黏')\n",
    "f6 = (r'公主(病)?|獨立')\n",
    "f7 = (r'亂花錢|金錢觀|價值觀|錢')\n",
    "f8 = (r'嗎$')\n",
    "f9 = (r'^這(.*?)是不是')\n",
    "f10 = (r'會不會')\n",
    "f11 = (r'^怎麼辦')\n",
    "f12 = (r'怎麼辦$')\n",
    "f13 = (r'(.*?)還是(.*?)')\n",
    "f14 = (r'(.*?)比較(.*?)')\n",
    "f15 = (r'^你覺得')\n",
    "f16 = (r'真|最|超')\n",
    "f17 = (r'真的(.*?)喔')\n",
    "f18 = (r'(對|可以|好)&(阿|啊)')\n",
    "f19 = (r'不會|才不會')\n",
    "f20 = (r'(很?壓|呀)(沒?壓|呀)')\n",
    "f21 = (r'真的|完全')\n",
    "f22 = (r'可以')\n",
    "#f23 = (word_length <=3)\n",
    "f24 = (r'(嗎|啊|阿|了)$')\n",
    "f25 = (r'嗯嗯|喔喔')\n",
    "f26 = (r'都')\n",
    "f27 = (r'覺得(.*?)[她他我](.*?)[他她我]')\n",
    "f28 = (r'(.*?)比不上')\n",
    "f29 = (r'(.*?)差(.*?)')\n",
    "f30 = (r'(.*?)不好(.*?)')\n",
    "f31 = (r'(.*?)不覺得(.*?)')\n",
    "f32 = (r'誰')\n",
    "f33 = (r'什麼|為何|為什麼')\n",
    "f34 = (r'認識|知道')\n",
    "f35 = (r'一起')\n",
    "f36 = (r'陪')\n",
    "f37 = (r'只(有)?找你')\n",
    "f38 = (r'還是(.*?)去')\n",
    "f39 = (r'(他|她|你)(.*?)去')\n",
    "\n",
    "    \n",
    "      \n"
   ]
  },
  {
   "cell_type": "code",
   "execution_count": 147,
   "metadata": {
    "collapsed": false
   },
   "outputs": [
    {
     "name": "stdout",
     "output_type": "stream",
     "text": [
      "[('', '那', '', '', '', ''), ('', '', '', '', '', '嗎')]\n",
      "[('', '不覺得她', '', '', '', ''), ('', '', '', '', '', '嗎')]\n",
      "[('', '', '', '', '', '嗎')]\n",
      "[('', '不覺得她', '', '', '', ''), ('', '那', '', '', '', ''), ('', '不覺得她', '', '', '', '')]\n",
      "[]\n",
      "[]\n"
     ]
    }
   ],
   "source": [
    "# match exgex by variable name and texts\n",
    "\n",
    "\n",
    "#dict_list = {}\n",
    "#for i in text:\n",
    "#    pattern = re.compile(r'(你看)|(不覺得她|那)|(她|他|那個) (.*?) (喔|噢|哦)|(嗎$)')\n",
    "    #pattern = re.compile(f1|f2)\n",
    "#    match = pattern.findall(i)\n",
    "#    print(match)\n",
    "#    dict_list['key1'] = match\n",
    "#print(dict_list)\n",
    "    \n",
    "\n",
    "\n",
    "\n",
    "\n"
   ]
  },
  {
   "cell_type": "code",
   "execution_count": 152,
   "metadata": {
    "collapsed": false
   },
   "outputs": [
    {
     "name": "stdout",
     "output_type": "stream",
     "text": [
      "['你看', '不覺得她|那', '(她|他|那個) (.*?) (喔|噢|哦)', '胖|粗魯|沒氣質|沒有氣質|太矮|脾氣|脾氣|差很多|很沒有|不適合|任性|差|爛|粗|好胖|很大|整形', '吵|煩|管|嘮叨|黏', '公主(病)?|獨立', '亂花錢|金錢觀|價值觀|錢', '亂花錢|金錢觀|價值觀|錢', '嗎$', '^這(.*?)是不是', '會不會', '^怎麼辦', '怎麼辦$', '(.*?)還是(.*?)', '(.*?)比較(.*?)', '^你覺得', '真|最|超', '真的(.*?)喔', '(對|可以|好)&(阿|啊)', '不會|才不會', '(很?壓|呀)(沒?壓|呀)', '真的|完全', '可以', '(嗎|啊|阿|了)$', '嗯嗯|喔喔', '都', '覺得(.*?)[她他我](.*?)[他她我]', '(.*?)比不上', '(.*?)差(.*?)', '(.*?)不好(.*?)', '(.*?)不覺得(.*?)', '誰', '什麼|為何|為什麼', '認識|知道', '一起', '陪', '只(有)?找你', '還是(.*?)去', '(他|她|你)(.*?)去']\n"
     ]
    }
   ],
   "source": [
    "feature_list = [f1,f2,f3,f4,f5,f6,f7,f7,f8,f9,f10,f11,f12,f13,f14,f15,f16,f17,f18,f19,f20,f21,f22,f24,f25,f26,f27,f28,f29,f30,f31,f32,f33,f34,f35,f36,f37,f38,f39]\n",
    "print (feature_list)"
   ]
  },
  {
   "cell_type": "code",
   "execution_count": 218,
   "metadata": {
    "collapsed": false
   },
   "outputs": [
    {
     "name": "stdout",
     "output_type": "stream",
     "text": [
      "{'你不覺得她那張臉, 不覺得她很壯': '我是不是'}\n"
     ]
    }
   ],
   "source": [
    "dict_list = {}\n",
    "for i in text:\n",
    "    for feature in feature_list:\n",
    "        pattern = re.compile(feature)\n",
    "        match = pattern.findall(i)\n",
    "        \n",
    "        for j in match:\n",
    "            dict_list[text[3]] = j\n",
    "            #print (dict_list)\n",
    "        #print (match)\n",
    "        #dict_list[text[4]] = match\n",
    "        \n",
    "print (dict_list)"
   ]
  },
  {
   "cell_type": "code",
   "execution_count": 126,
   "metadata": {
    "collapsed": false
   },
   "outputs": [
    {
     "name": "stdout",
     "output_type": "stream",
     "text": [
      "{'k': '你 不覺得 那個 女生 很 正 嗎'}\n",
      "{'k': '不覺得她很瘦嗎'}\n",
      "{'k': '不覺得我很公主病嗎'}\n",
      "{'k': '你不覺得她那張臉, 不覺得她很壯'}\n",
      "{'k': '我是不是比不上他,是不是'}\n",
      "{'k': ' 皮卡丘'}\n"
     ]
    }
   ],
   "source": [
    "#dict_list_1 = {}\n",
    "#for i in text:\n",
    "#    dict_list_1['k'] = i\n",
    "#    print (dict_list_1)\n",
    "    \n",
    "    \n",
    "#    grades[module].append(grade)"
   ]
  }
 ],
 "metadata": {
  "kernelspec": {
   "display_name": "Python 3",
   "language": "python",
   "name": "python3"
  },
  "language_info": {
   "codemirror_mode": {
    "name": "ipython",
    "version": 3
   },
   "file_extension": ".py",
   "mimetype": "text/x-python",
   "name": "python",
   "nbconvert_exporter": "python",
   "pygments_lexer": "ipython3",
   "version": "3.4.3"
  }
 },
 "nbformat": 4,
 "nbformat_minor": 1
}
